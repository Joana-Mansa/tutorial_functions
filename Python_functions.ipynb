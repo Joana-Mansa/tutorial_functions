{
  "nbformat": 4,
  "nbformat_minor": 0,
  "metadata": {
    "colab": {
      "name": "Python_functions.ipynb",
      "provenance": [],
      "collapsed_sections": [],
      "authorship_tag": "ABX9TyMCgalWRKa59YXw8xl9eh4d",
      "include_colab_link": true
    },
    "kernelspec": {
      "name": "python3",
      "display_name": "Python 3"
    },
    "language_info": {
      "name": "python"
    }
  },
  "cells": [
    {
      "cell_type": "markdown",
      "metadata": {
        "id": "view-in-github",
        "colab_type": "text"
      },
      "source": [
        "<a href=\"https://colab.research.google.com/github/Joana-Mansa/tutorial_functions/blob/main/Python_functions.ipynb\" target=\"_parent\"><img src=\"https://colab.research.google.com/assets/colab-badge.svg\" alt=\"Open In Colab\"/></a>"
      ]
    },
    {
      "cell_type": "markdown",
      "metadata": {
        "id": "rYaRmzihGheL"
      },
      "source": [
        "## Functions of Functions- Working with Functions in Data Analysis\n",
        "\n",
        "\n"
      ]
    },
    {
      "cell_type": "markdown",
      "metadata": {
        "id": "9lxk9fbeGwWz"
      },
      "source": [
        "## Introduction to Python Functions\n",
        "\n",
        "The basic syntax for defining functions:\n",
        "def function_name(parameter): \n",
        "  body\n",
        "  return (optional)\n",
        "\n"
      ]
    },
    {
      "cell_type": "code",
      "metadata": {
        "id": "BtpYsB92GghL"
      },
      "source": [
        "# defining a function display_message\n",
        "\n",
        "def display_message(learning):\n",
        "  print('Hello People, I am learning ', learning)\n"
      ],
      "execution_count": null,
      "outputs": []
    },
    {
      "cell_type": "code",
      "metadata": {
        "colab": {
          "base_uri": "https://localhost:8080/"
        },
        "id": "1n2y-7JbHy3d",
        "outputId": "ff67307f-3bd1-4bac-cd91-a9c134d1bd34"
      },
      "source": [
        "display_message('Introduction to Data Visualisation with Seaborn')"
      ],
      "execution_count": null,
      "outputs": [
        {
          "output_type": "stream",
          "name": "stdout",
          "text": [
            "Hello People, I am learning  Introduction to Data Visualisation with Seaborn\n"
          ]
        }
      ]
    },
    {
      "cell_type": "markdown",
      "metadata": {
        "id": "76ryzQIdTl9o"
      },
      "source": [
        "## Functions with Multiple Parameters\n",
        "There are ways of calling out functions with multiple parameters\n",
        "- Positional arguments\n",
        "- Keyword arguments\n",
        "* Using default values"
      ]
    },
    {
      "cell_type": "code",
      "metadata": {
        "id": "pNhd_VszIDmw"
      },
      "source": [
        "def make_shirt(size, shirt_inscription):\n",
        "  print('You chose a', size, '-sized shirt', 'with the inscription: ', shirt_inscription )"
      ],
      "execution_count": 4,
      "outputs": []
    },
    {
      "cell_type": "code",
      "metadata": {
        "colab": {
          "base_uri": "https://localhost:8080/"
        },
        "id": "vH2yZtB-zTTj",
        "outputId": "684750b8-2c22-435b-ec85-afa57e289f4a"
      },
      "source": [
        "make_shirt('medium', 'They that wait')"
      ],
      "execution_count": 6,
      "outputs": [
        {
          "output_type": "stream",
          "name": "stdout",
          "text": [
            "You chose a medium -sized shirt with the inscription:  They that wait\n"
          ]
        }
      ]
    },
    {
      "cell_type": "code",
      "metadata": {
        "colab": {
          "base_uri": "https://localhost:8080/"
        },
        "id": "duQ3tFdOV85m",
        "outputId": "def2a7f1-5665-43b9-c7d7-6485f53460a0"
      },
      "source": [
        "# calling the function\n",
        "# with positional argument\n",
        "\n",
        "make_shirt('medium', 'They that Wait')"
      ],
      "execution_count": null,
      "outputs": [
        {
          "output_type": "stream",
          "name": "stdout",
          "text": [
            "You chose a medium -sized shirt with the inscription:  They that Wait\n"
          ]
        }
      ]
    },
    {
      "cell_type": "code",
      "metadata": {
        "colab": {
          "base_uri": "https://localhost:8080/"
        },
        "id": "fa9W8AaoWSKo",
        "outputId": "3a3d691c-ea74-4c2f-c13b-aab4df376a1a"
      },
      "source": [
        "# using the keyword argument\n",
        "make_shirt(size='Medium', shirt_inscription='They That Wait')"
      ],
      "execution_count": null,
      "outputs": [
        {
          "output_type": "stream",
          "name": "stdout",
          "text": [
            "You chose a Medium -sized shirt with the inscription:  They That Wait\n"
          ]
        }
      ]
    },
    {
      "cell_type": "markdown",
      "metadata": {
        "id": "jwwez9CMYNCR"
      },
      "source": [
        "#### For the purposes of this tutorial, lets create another function but with the same parameters as the make_shirt()"
      ]
    },
    {
      "cell_type": "code",
      "metadata": {
        "id": "VxqlOsATXfST"
      },
      "source": [
        "# using default values\n",
        "def making_shirt(size='Large', inscription='I love Python'):\n",
        "  print('You chose a', size, '-sized shirt', 'with the inscription:', inscription)"
      ],
      "execution_count": null,
      "outputs": []
    },
    {
      "cell_type": "code",
      "metadata": {
        "colab": {
          "base_uri": "https://localhost:8080/"
        },
        "id": "5AgEp1InYuih",
        "outputId": "3b528eb8-b72e-4cdf-b486-55177e798a14"
      },
      "source": [
        "making_shirt()"
      ],
      "execution_count": null,
      "outputs": [
        {
          "output_type": "stream",
          "name": "stdout",
          "text": [
            "You chose a Large -sized shirt with the inscription: I love Python\n"
          ]
        }
      ]
    },
    {
      "cell_type": "code",
      "metadata": {
        "colab": {
          "base_uri": "https://localhost:8080/"
        },
        "id": "Hq6a9blrYxv9",
        "outputId": "7d59c4ae-69bd-4d6a-a171-0277979722ec"
      },
      "source": [
        "# here we print a medium shirt but with the default inscription\n",
        "# specified with the making_shirt function\n",
        "\n",
        "making_shirt(size='Medium')"
      ],
      "execution_count": null,
      "outputs": [
        {
          "output_type": "stream",
          "name": "stdout",
          "text": [
            "You chose a Medium -sized shirt with the inscription: I love Python\n"
          ]
        }
      ]
    },
    {
      "cell_type": "code",
      "metadata": {
        "colab": {
          "base_uri": "https://localhost:8080/"
        },
        "id": "XFI0PzN_Zkv7",
        "outputId": "45409ffd-b78b-49a1-df65-8e5418af7811"
      },
      "source": [
        "# same applies to the choosing small instead of the default\n",
        "making_shirt(size='Small')"
      ],
      "execution_count": null,
      "outputs": [
        {
          "output_type": "stream",
          "name": "stdout",
          "text": [
            "You chose a Small -sized shirt with the inscription: I love Python\n"
          ]
        }
      ]
    },
    {
      "cell_type": "markdown",
      "metadata": {
        "id": "At3k_VoAa-os"
      },
      "source": [
        "## Return Values"
      ]
    },
    {
      "cell_type": "code",
      "metadata": {
        "id": "UwQtPKoUZ5g2"
      },
      "source": [
        "def get_formated_names(first, surname):\n",
        "  \"\"\"Returns full name neatly formatted\"\"\"\n",
        "  full_name= f'{first} {surname}'\n",
        "  return full_name.title()"
      ],
      "execution_count": null,
      "outputs": []
    },
    {
      "cell_type": "code",
      "metadata": {
        "colab": {
          "base_uri": "https://localhost:8080/"
        },
        "id": "h0ysTW58bcCH",
        "outputId": "bc9d54a2-8707-49da-bf61-06f78e9cd241"
      },
      "source": [
        "musician= get_formated_names('joana', 'owusu-appiah')\n",
        "print(musician)"
      ],
      "execution_count": null,
      "outputs": [
        {
          "output_type": "stream",
          "name": "stdout",
          "text": [
            "Joana Owusu-Appiah\n"
          ]
        }
      ]
    },
    {
      "cell_type": "markdown",
      "metadata": {
        "id": "gYvAMISZdtM4"
      },
      "source": [
        "#### **Optional** **Values**\n",
        "\n",
        "Some values may or may not be provided, and so to save ourselves multiple errors, we make provision for that."
      ]
    },
    {
      "cell_type": "code",
      "metadata": {
        "id": "ppRyOIT9bmmD"
      },
      "source": [
        "def get_formated_names(first, surname, middle_name=' '):\n",
        "  \"\"\" Returns full name neatly formatted.\"\"\"\n",
        "  if middle_name:\n",
        "    full_name= f'{first} {surname} {middle_name}'\n",
        "  else:\n",
        "    full_name= f'{first} {surname}'\n",
        "  return full_name.title()"
      ],
      "execution_count": null,
      "outputs": []
    },
    {
      "cell_type": "code",
      "metadata": {
        "colab": {
          "base_uri": "https://localhost:8080/"
        },
        "id": "OlZ88NOqeZ-o",
        "outputId": "83c4b8ee-d565-430a-af04-210234cc56be"
      },
      "source": [
        "musician = get_formated_names('joana','owusu', 'appiah')\n",
        "print(musician)"
      ],
      "execution_count": null,
      "outputs": [
        {
          "output_type": "stream",
          "name": "stdout",
          "text": [
            "Joana Owusu Appiah\n"
          ]
        }
      ]
    },
    {
      "cell_type": "code",
      "metadata": {
        "colab": {
          "base_uri": "https://localhost:8080/"
        },
        "id": "__zRB93be5qo",
        "outputId": "071dfb4b-5e26-40cc-f99c-6a12a281748f"
      },
      "source": [
        "musician = get_formated_names('joana', 'appiah')\n",
        "print(musician)"
      ],
      "execution_count": null,
      "outputs": [
        {
          "output_type": "stream",
          "name": "stdout",
          "text": [
            "Joana Appiah  \n"
          ]
        }
      ]
    },
    {
      "cell_type": "markdown",
      "metadata": {
        "id": "7gNzIQo2zHWT"
      },
      "source": [
        "## Flexible Arguments\n",
        "- *args\n",
        "- **Kwargs"
      ]
    },
    {
      "cell_type": "code",
      "metadata": {
        "id": "cY2gjx3czFUy"
      },
      "source": [
        "# *args\n",
        "def add_all(*args):\n",
        "  \"\"\" Sum all values in *args together. \"\"\"\n",
        "\n",
        "  # initiate the sum\n",
        "  sum_all = 0\n",
        "\n",
        "  # accumulate the sum\n",
        "  for num in args:\n",
        "    sum_all += num\n",
        "\n",
        "  return sum_all"
      ],
      "execution_count": 8,
      "outputs": []
    },
    {
      "cell_type": "code",
      "metadata": {
        "colab": {
          "base_uri": "https://localhost:8080/"
        },
        "id": "VfZNP5jFzmvX",
        "outputId": "b9547a1f-4e78-4c5e-e760-e3b1c3da5e98"
      },
      "source": [
        "add_all(1)"
      ],
      "execution_count": 9,
      "outputs": [
        {
          "output_type": "execute_result",
          "data": {
            "text/plain": [
              "1"
            ]
          },
          "metadata": {},
          "execution_count": 9
        }
      ]
    },
    {
      "cell_type": "code",
      "metadata": {
        "colab": {
          "base_uri": "https://localhost:8080/"
        },
        "id": "GJU6vs7E0MTK",
        "outputId": "ffbf372d-3c80-47c5-eb7f-ea552122e145"
      },
      "source": [
        "add_all(10, 20, 50)"
      ],
      "execution_count": 11,
      "outputs": [
        {
          "output_type": "execute_result",
          "data": {
            "text/plain": [
              "80"
            ]
          },
          "metadata": {},
          "execution_count": 11
        }
      ]
    },
    {
      "cell_type": "code",
      "metadata": {
        "id": "1GCcisXm2y5g"
      },
      "source": [
        "# ** Kwargs\n",
        "\n",
        "def print_all(**kwargs):\n",
        "  \"\"\" Print out the key-value pairs\"\"\"\n",
        "  print(kwargs)\n",
        "\n"
      ],
      "execution_count": 24,
      "outputs": []
    },
    {
      "cell_type": "code",
      "metadata": {
        "colab": {
          "base_uri": "https://localhost:8080/"
        },
        "id": "-NnizQO06QCQ",
        "outputId": "2540844d-971a-47bd-c1bc-b6ecd2d4810d"
      },
      "source": [
        "print_all(one=1, two=2, three=3)"
      ],
      "execution_count": 25,
      "outputs": [
        {
          "output_type": "stream",
          "name": "stdout",
          "text": [
            "{'one': 1, 'two': 2, 'three': 3}\n"
          ]
        }
      ]
    },
    {
      "cell_type": "markdown",
      "metadata": {
        "id": "QNMhVBcOKWCH"
      },
      "source": [
        "## Scope of a Variable in Functions."
      ]
    },
    {
      "cell_type": "code",
      "metadata": {
        "id": "5wNSEYc6KbE0"
      },
      "source": [
        "age = 30 # Global variable\n",
        "\n",
        "def get_full_name(first, surname):\n",
        "  full_name = first + ' ' + surname  # fullname is a local variable\n",
        "  print(\"Age: \" , age)\n",
        "  print(\"Full name is: \" , full_name) # prints the statements within the function"
      ],
      "execution_count": 30,
      "outputs": []
    },
    {
      "cell_type": "code",
      "metadata": {
        "colab": {
          "base_uri": "https://localhost:8080/"
        },
        "id": "Du4vQCf9KiCq",
        "outputId": "730b9bb0-2130-4932-daaf-3e346a8978c8"
      },
      "source": [
        "get_full_name('Joana', 'Owusu-Appiah') # both the age would be printed"
      ],
      "execution_count": 31,
      "outputs": [
        {
          "output_type": "stream",
          "name": "stdout",
          "text": [
            "Age:  30\n",
            "Full name is:  Joana Owusu-Appiah\n"
          ]
        }
      ]
    },
    {
      "cell_type": "code",
      "metadata": {
        "colab": {
          "base_uri": "https://localhost:8080/",
          "height": 198
        },
        "id": "-Yy4Tjh0KneK",
        "outputId": "3574f3e4-5129-494e-9b8d-ff9cf9da1025"
      },
      "source": [
        "print(\"Age: \" , age)\n",
        "print(\"Full name is : \" , full_name)"
      ],
      "execution_count": 32,
      "outputs": [
        {
          "output_type": "stream",
          "name": "stdout",
          "text": [
            "Age:  30\n"
          ]
        },
        {
          "output_type": "error",
          "ename": "NameError",
          "evalue": "ignored",
          "traceback": [
            "\u001b[0;31m---------------------------------------------------------------------------\u001b[0m",
            "\u001b[0;31mNameError\u001b[0m                                 Traceback (most recent call last)",
            "\u001b[0;32m<ipython-input-32-c9d93c003ac3>\u001b[0m in \u001b[0;36m<module>\u001b[0;34m()\u001b[0m\n\u001b[1;32m      1\u001b[0m \u001b[0mprint\u001b[0m\u001b[0;34m(\u001b[0m\u001b[0;34m\"Age: \"\u001b[0m \u001b[0;34m,\u001b[0m \u001b[0mage\u001b[0m\u001b[0;34m)\u001b[0m\u001b[0;34m\u001b[0m\u001b[0;34m\u001b[0m\u001b[0m\n\u001b[0;32m----> 2\u001b[0;31m \u001b[0mprint\u001b[0m\u001b[0;34m(\u001b[0m\u001b[0;34m\"Full name is : \"\u001b[0m \u001b[0;34m,\u001b[0m \u001b[0mfull_name\u001b[0m\u001b[0;34m)\u001b[0m\u001b[0;34m\u001b[0m\u001b[0;34m\u001b[0m\u001b[0m\n\u001b[0m",
            "\u001b[0;31mNameError\u001b[0m: name 'full_name' is not defined"
          ]
        }
      ]
    },
    {
      "cell_type": "markdown",
      "metadata": {
        "id": "6m89QeYMKtAV"
      },
      "source": [
        "####  it could not print full_name because it is a local variable and cannot be called outside the function"
      ]
    },
    {
      "cell_type": "markdown",
      "metadata": {
        "id": "crYiDy2dBQto"
      },
      "source": [
        "## Lambda Functions ( Anonymous functions)"
      ]
    },
    {
      "cell_type": "code",
      "metadata": {
        "id": "vv5q_QPOBZwM"
      },
      "source": [
        "# defined without names\n",
        "\n",
        "raise_power = lambda x,y : x**y"
      ],
      "execution_count": 26,
      "outputs": []
    },
    {
      "cell_type": "code",
      "metadata": {
        "colab": {
          "base_uri": "https://localhost:8080/"
        },
        "id": "V0tdkPgIBqeL",
        "outputId": "ccb21b51-3b7f-4a4e-d8d1-5ad0045cf763"
      },
      "source": [
        "raise_power(2, 3)"
      ],
      "execution_count": 27,
      "outputs": [
        {
          "output_type": "execute_result",
          "data": {
            "text/plain": [
              "8"
            ]
          },
          "metadata": {},
          "execution_count": 27
        }
      ]
    },
    {
      "cell_type": "markdown",
      "metadata": {
        "id": "32GIr3guGAnc"
      },
      "source": [
        "## Using the map function"
      ]
    },
    {
      "cell_type": "code",
      "metadata": {
        "colab": {
          "base_uri": "https://localhost:8080/"
        },
        "id": "nObOcBq3GaUp",
        "outputId": "da13d775-c0ea-4e14-a83a-b2364b8c797c"
      },
      "source": [
        "nums = [48, 6, 9, 21, 1]\n",
        "square_all = map(lambda num: num**2, nums)\n",
        "print(square_all) "
      ],
      "execution_count": 28,
      "outputs": [
        {
          "output_type": "stream",
          "name": "stdout",
          "text": [
            "<map object at 0x7f88611a1690>\n"
          ]
        }
      ]
    },
    {
      "cell_type": "code",
      "metadata": {
        "colab": {
          "base_uri": "https://localhost:8080/"
        },
        "id": "rSkl2TR0HhSW",
        "outputId": "01627563-e56b-4906-94e0-2d62c2717e7e"
      },
      "source": [
        "print(list(square_all))"
      ],
      "execution_count": 29,
      "outputs": [
        {
          "output_type": "stream",
          "name": "stdout",
          "text": [
            "[2304, 36, 81, 441, 1]\n"
          ]
        }
      ]
    },
    {
      "cell_type": "markdown",
      "metadata": {
        "id": "LINxwal3JJTv"
      },
      "source": [
        "## Bonus\n",
        "\n",
        "Functions can return values of all kinds of data types from lists, dictionaries, tuples etc\n",
        "You can also perform all kinds of computations, from while loops to for loops among others."
      ]
    },
    {
      "cell_type": "code",
      "metadata": {
        "id": "fHwUSkPbfBPQ",
        "colab": {
          "base_uri": "https://localhost:8080/",
          "height": 681
        },
        "outputId": "65ec2cbc-46cb-400c-f43a-a00e11cdb02a"
      },
      "source": [
        "while True:\n",
        "  print('Please Enter your name: ')\n",
        "  first = input('First name: ')\n",
        "  surname = input('Surname: ')\n",
        "  full_name = f'{first} {surname}'\n",
        "  formatted_name = get_formated_names(first, surname)\n",
        "  print('Hello', get_formated_names)"
      ],
      "execution_count": null,
      "outputs": [
        {
          "output_type": "stream",
          "name": "stdout",
          "text": [
            "Please Enter your name: \n",
            "First name: joana\n",
            "Surname: owusu-appaih\n",
            "Hello <function get_formated_names at 0x7f92bed3ce60>\n",
            "Please Enter your name: \n",
            "First name: Joana\n",
            "Surname: owusu-appiah\n",
            "Hello <function get_formated_names at 0x7f92bed3ce60>\n",
            "Please Enter your name: \n"
          ]
        },
        {
          "output_type": "error",
          "ename": "KeyboardInterrupt",
          "evalue": "ignored",
          "traceback": [
            "\u001b[0;31m---------------------------------------------------------------------------\u001b[0m",
            "\u001b[0;31mKeyboardInterrupt\u001b[0m                         Traceback (most recent call last)",
            "\u001b[0;32m/usr/local/lib/python3.7/dist-packages/ipykernel/kernelbase.py\u001b[0m in \u001b[0;36m_input_request\u001b[0;34m(self, prompt, ident, parent, password)\u001b[0m\n\u001b[1;32m    728\u001b[0m             \u001b[0;32mtry\u001b[0m\u001b[0;34m:\u001b[0m\u001b[0;34m\u001b[0m\u001b[0;34m\u001b[0m\u001b[0m\n\u001b[0;32m--> 729\u001b[0;31m                 \u001b[0mident\u001b[0m\u001b[0;34m,\u001b[0m \u001b[0mreply\u001b[0m \u001b[0;34m=\u001b[0m \u001b[0mself\u001b[0m\u001b[0;34m.\u001b[0m\u001b[0msession\u001b[0m\u001b[0;34m.\u001b[0m\u001b[0mrecv\u001b[0m\u001b[0;34m(\u001b[0m\u001b[0mself\u001b[0m\u001b[0;34m.\u001b[0m\u001b[0mstdin_socket\u001b[0m\u001b[0;34m,\u001b[0m \u001b[0;36m0\u001b[0m\u001b[0;34m)\u001b[0m\u001b[0;34m\u001b[0m\u001b[0;34m\u001b[0m\u001b[0m\n\u001b[0m\u001b[1;32m    730\u001b[0m             \u001b[0;32mexcept\u001b[0m \u001b[0mException\u001b[0m\u001b[0;34m:\u001b[0m\u001b[0;34m\u001b[0m\u001b[0;34m\u001b[0m\u001b[0m\n",
            "\u001b[0;32m/usr/local/lib/python3.7/dist-packages/jupyter_client/session.py\u001b[0m in \u001b[0;36mrecv\u001b[0;34m(self, socket, mode, content, copy)\u001b[0m\n\u001b[1;32m    802\u001b[0m         \u001b[0;32mtry\u001b[0m\u001b[0;34m:\u001b[0m\u001b[0;34m\u001b[0m\u001b[0;34m\u001b[0m\u001b[0m\n\u001b[0;32m--> 803\u001b[0;31m             \u001b[0mmsg_list\u001b[0m \u001b[0;34m=\u001b[0m \u001b[0msocket\u001b[0m\u001b[0;34m.\u001b[0m\u001b[0mrecv_multipart\u001b[0m\u001b[0;34m(\u001b[0m\u001b[0mmode\u001b[0m\u001b[0;34m,\u001b[0m \u001b[0mcopy\u001b[0m\u001b[0;34m=\u001b[0m\u001b[0mcopy\u001b[0m\u001b[0;34m)\u001b[0m\u001b[0;34m\u001b[0m\u001b[0;34m\u001b[0m\u001b[0m\n\u001b[0m\u001b[1;32m    804\u001b[0m         \u001b[0;32mexcept\u001b[0m \u001b[0mzmq\u001b[0m\u001b[0;34m.\u001b[0m\u001b[0mZMQError\u001b[0m \u001b[0;32mas\u001b[0m \u001b[0me\u001b[0m\u001b[0;34m:\u001b[0m\u001b[0;34m\u001b[0m\u001b[0;34m\u001b[0m\u001b[0m\n",
            "\u001b[0;32m/usr/local/lib/python3.7/dist-packages/zmq/sugar/socket.py\u001b[0m in \u001b[0;36mrecv_multipart\u001b[0;34m(self, flags, copy, track)\u001b[0m\n\u001b[1;32m    624\u001b[0m         \"\"\"\n\u001b[0;32m--> 625\u001b[0;31m         \u001b[0mparts\u001b[0m \u001b[0;34m=\u001b[0m \u001b[0;34m[\u001b[0m\u001b[0mself\u001b[0m\u001b[0;34m.\u001b[0m\u001b[0mrecv\u001b[0m\u001b[0;34m(\u001b[0m\u001b[0mflags\u001b[0m\u001b[0;34m,\u001b[0m \u001b[0mcopy\u001b[0m\u001b[0;34m=\u001b[0m\u001b[0mcopy\u001b[0m\u001b[0;34m,\u001b[0m \u001b[0mtrack\u001b[0m\u001b[0;34m=\u001b[0m\u001b[0mtrack\u001b[0m\u001b[0;34m)\u001b[0m\u001b[0;34m]\u001b[0m\u001b[0;34m\u001b[0m\u001b[0;34m\u001b[0m\u001b[0m\n\u001b[0m\u001b[1;32m    626\u001b[0m         \u001b[0;31m# have first part already, only loop while more to receive\u001b[0m\u001b[0;34m\u001b[0m\u001b[0;34m\u001b[0m\u001b[0;34m\u001b[0m\u001b[0m\n",
            "\u001b[0;32mzmq/backend/cython/socket.pyx\u001b[0m in \u001b[0;36mzmq.backend.cython.socket.Socket.recv\u001b[0;34m()\u001b[0m\n",
            "\u001b[0;32mzmq/backend/cython/socket.pyx\u001b[0m in \u001b[0;36mzmq.backend.cython.socket.Socket.recv\u001b[0;34m()\u001b[0m\n",
            "\u001b[0;32mzmq/backend/cython/socket.pyx\u001b[0m in \u001b[0;36mzmq.backend.cython.socket._recv_copy\u001b[0;34m()\u001b[0m\n",
            "\u001b[0;32m/usr/local/lib/python3.7/dist-packages/zmq/backend/cython/checkrc.pxd\u001b[0m in \u001b[0;36mzmq.backend.cython.checkrc._check_rc\u001b[0;34m()\u001b[0m\n",
            "\u001b[0;31mKeyboardInterrupt\u001b[0m: ",
            "\nDuring handling of the above exception, another exception occurred:\n",
            "\u001b[0;31mKeyboardInterrupt\u001b[0m                         Traceback (most recent call last)",
            "\u001b[0;32m<ipython-input-23-5a00ee01094c>\u001b[0m in \u001b[0;36m<module>\u001b[0;34m()\u001b[0m\n\u001b[1;32m      1\u001b[0m \u001b[0;32mwhile\u001b[0m \u001b[0;32mTrue\u001b[0m\u001b[0;34m:\u001b[0m\u001b[0;34m\u001b[0m\u001b[0;34m\u001b[0m\u001b[0m\n\u001b[1;32m      2\u001b[0m   \u001b[0mprint\u001b[0m\u001b[0;34m(\u001b[0m\u001b[0;34m'Please Enter your name: '\u001b[0m\u001b[0;34m)\u001b[0m\u001b[0;34m\u001b[0m\u001b[0;34m\u001b[0m\u001b[0m\n\u001b[0;32m----> 3\u001b[0;31m   \u001b[0mfirst\u001b[0m \u001b[0;34m=\u001b[0m \u001b[0minput\u001b[0m\u001b[0;34m(\u001b[0m\u001b[0;34m'First name: '\u001b[0m\u001b[0;34m)\u001b[0m\u001b[0;34m\u001b[0m\u001b[0;34m\u001b[0m\u001b[0m\n\u001b[0m\u001b[1;32m      4\u001b[0m   \u001b[0msurname\u001b[0m \u001b[0;34m=\u001b[0m \u001b[0minput\u001b[0m\u001b[0;34m(\u001b[0m\u001b[0;34m'Surname: '\u001b[0m\u001b[0;34m)\u001b[0m\u001b[0;34m\u001b[0m\u001b[0;34m\u001b[0m\u001b[0m\n\u001b[1;32m      5\u001b[0m   \u001b[0mfull_name\u001b[0m \u001b[0;34m=\u001b[0m \u001b[0;34mf'{first} {surname}'\u001b[0m\u001b[0;34m\u001b[0m\u001b[0;34m\u001b[0m\u001b[0m\n",
            "\u001b[0;32m/usr/local/lib/python3.7/dist-packages/ipykernel/kernelbase.py\u001b[0m in \u001b[0;36mraw_input\u001b[0;34m(self, prompt)\u001b[0m\n\u001b[1;32m    702\u001b[0m             \u001b[0mself\u001b[0m\u001b[0;34m.\u001b[0m\u001b[0m_parent_ident\u001b[0m\u001b[0;34m,\u001b[0m\u001b[0;34m\u001b[0m\u001b[0;34m\u001b[0m\u001b[0m\n\u001b[1;32m    703\u001b[0m             \u001b[0mself\u001b[0m\u001b[0;34m.\u001b[0m\u001b[0m_parent_header\u001b[0m\u001b[0;34m,\u001b[0m\u001b[0;34m\u001b[0m\u001b[0;34m\u001b[0m\u001b[0m\n\u001b[0;32m--> 704\u001b[0;31m             \u001b[0mpassword\u001b[0m\u001b[0;34m=\u001b[0m\u001b[0;32mFalse\u001b[0m\u001b[0;34m,\u001b[0m\u001b[0;34m\u001b[0m\u001b[0;34m\u001b[0m\u001b[0m\n\u001b[0m\u001b[1;32m    705\u001b[0m         )\n\u001b[1;32m    706\u001b[0m \u001b[0;34m\u001b[0m\u001b[0m\n",
            "\u001b[0;32m/usr/local/lib/python3.7/dist-packages/ipykernel/kernelbase.py\u001b[0m in \u001b[0;36m_input_request\u001b[0;34m(self, prompt, ident, parent, password)\u001b[0m\n\u001b[1;32m    732\u001b[0m             \u001b[0;32mexcept\u001b[0m \u001b[0mKeyboardInterrupt\u001b[0m\u001b[0;34m:\u001b[0m\u001b[0;34m\u001b[0m\u001b[0;34m\u001b[0m\u001b[0m\n\u001b[1;32m    733\u001b[0m                 \u001b[0;31m# re-raise KeyboardInterrupt, to truncate traceback\u001b[0m\u001b[0;34m\u001b[0m\u001b[0;34m\u001b[0m\u001b[0;34m\u001b[0m\u001b[0m\n\u001b[0;32m--> 734\u001b[0;31m                 \u001b[0;32mraise\u001b[0m \u001b[0mKeyboardInterrupt\u001b[0m\u001b[0;34m\u001b[0m\u001b[0;34m\u001b[0m\u001b[0m\n\u001b[0m\u001b[1;32m    735\u001b[0m             \u001b[0;32melse\u001b[0m\u001b[0;34m:\u001b[0m\u001b[0;34m\u001b[0m\u001b[0;34m\u001b[0m\u001b[0m\n\u001b[1;32m    736\u001b[0m                 \u001b[0;32mbreak\u001b[0m\u001b[0;34m\u001b[0m\u001b[0;34m\u001b[0m\u001b[0m\n",
            "\u001b[0;31mKeyboardInterrupt\u001b[0m: "
          ]
        }
      ]
    },
    {
      "cell_type": "markdown",
      "metadata": {
        "id": "WuDYJSfUjCMd"
      },
      "source": [
        "#### the code above runs infintely until the user provides a break statement."
      ]
    },
    {
      "cell_type": "code",
      "metadata": {
        "colab": {
          "base_uri": "https://localhost:8080/"
        },
        "id": "D2UlM-BLg3zO",
        "outputId": "6735396e-75fa-4876-b0fc-aded7e75bba1"
      },
      "source": [
        "while True:\n",
        "  print('Please Enter your name: ')\n",
        "  first = input('First name: ')\n",
        "  surname = input('Surname: ')\n",
        "  full_name = f'{first} {surname}'\n",
        "  formatted_name = get_formated_names(first, surname)\n",
        "\n",
        "  if surname == 'q':\n",
        "    break\n",
        "  print('Hello', get_formated_names)"
      ],
      "execution_count": null,
      "outputs": [
        {
          "name": "stdout",
          "output_type": "stream",
          "text": [
            "Please Enter your name: \n",
            "First name: joana\n",
            "Surname: q\n"
          ]
        }
      ]
    },
    {
      "cell_type": "code",
      "metadata": {
        "id": "WlRByY2DjhWQ"
      },
      "source": [
        ""
      ],
      "execution_count": null,
      "outputs": []
    }
  ]
}